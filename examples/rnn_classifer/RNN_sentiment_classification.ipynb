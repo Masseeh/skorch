{
 "cells": [
  {
   "cell_type": "markdown",
   "metadata": {},
   "source": [
    "# Predicting sentiment on the IMDB dataset"
   ]
  },
  {
   "cell_type": "code",
   "execution_count": 1,
   "metadata": {},
   "outputs": [
    {
     "name": "stdout",
     "output_type": "stream",
     "text": [
      "Mon May 28 19:11:43 CEST 2018\r\n"
     ]
    }
   ],
   "source": [
    "!date"
   ]
  },
  {
   "cell_type": "markdown",
   "metadata": {},
   "source": [
    "In this notebook, we show you how to train an RNN to classify movie review sentences. We mostly start from scratch, so that you should be able to plug in your own dataset without too much hassle. Furthermore, we explain some best practices with skorch, and how to perform a randomized hyper-parameter search."
   ]
  },
  {
   "cell_type": "markdown",
   "metadata": {},
   "source": [
    "## Import"
   ]
  },
  {
   "cell_type": "code",
   "execution_count": 2,
   "metadata": {},
   "outputs": [],
   "source": [
    "import os\n",
    "import tarfile"
   ]
  },
  {
   "cell_type": "code",
   "execution_count": 3,
   "metadata": {},
   "outputs": [],
   "source": [
    "from dstoolbox.transformers import Padder2d\n",
    "from dstoolbox.transformers import TextFeaturizer\n",
    "import numpy as np\n",
    "from scipy import stats\n",
    "from sklearn.datasets import load_files\n",
    "from sklearn.pipeline import Pipeline\n",
    "from sklearn.model_selection import RandomizedSearchCV\n",
    "from skorch import NeuralNetClassifier\n",
    "import torch"
   ]
  },
  {
   "cell_type": "code",
   "execution_count": 4,
   "metadata": {},
   "outputs": [],
   "source": [
    "np.random.seed(0)"
   ]
  },
  {
   "cell_type": "markdown",
   "metadata": {},
   "source": [
    "## Constants"
   ]
  },
  {
   "cell_type": "code",
   "execution_count": 5,
   "metadata": {},
   "outputs": [],
   "source": [
    "VOCAB_SIZE = 1000 # This is on the low end\n",
    "MAX_LEN = 50  # Texts are pretty long on average, this is on the low end\n",
    "USE_CUDA = True  # Set this to False if you don't want to use CUDA\n",
    "NUM_CV_STEPS = 10  # Number of randomized search steps to perform"
   ]
  },
  {
   "cell_type": "markdown",
   "metadata": {},
   "source": [
    "## Preparation"
   ]
  },
  {
   "cell_type": "markdown",
   "metadata": {},
   "source": [
    "First we need to install an additional package, dstoolbox, for this example to run:\n",
    "\n",
    "    $ pip install dstoolbox\n",
    "\n",
    "Also, download the IMDB dataset\n",
    "\n",
    "    $ wget http://ai.stanford.edu/~amaas/data/sentiment/aclImdb_v1.tar.gz"
   ]
  },
  {
   "cell_type": "markdown",
   "metadata": {},
   "source": [
    "## Load data"
   ]
  },
  {
   "cell_type": "markdown",
   "metadata": {},
   "source": [
    "### Untar and unzip data"
   ]
  },
  {
   "cell_type": "code",
   "execution_count": 6,
   "metadata": {},
   "outputs": [],
   "source": [
    "if not os.path.exists('aclImdb'):\n",
    "    # unzip data if it does not exist\n",
    "    with tarfile.open('aclImdb_v1.tar.gz', 'r:gz') as f:\n",
    "        f.extractall()"
   ]
  },
  {
   "cell_type": "markdown",
   "metadata": {},
   "source": [
    "### Description of the dataset"
   ]
  },
  {
   "cell_type": "code",
   "execution_count": 7,
   "metadata": {},
   "outputs": [
    {
     "name": "stdout",
     "output_type": "stream",
     "text": [
      "Large Movie Review Dataset v1.0\r\n",
      "\r\n",
      "Overview\r\n",
      "\r\n",
      "This dataset contains movie reviews along with their associated binary\r\n",
      "sentiment polarity labels. It is intended to serve as a benchmark for\r\n",
      "sentiment classification. This document outlines how the dataset was\r\n",
      "gathered, and how to use the files provided. \r\n"
     ]
    }
   ],
   "source": [
    "!head -n 8 aclImdb/README"
   ]
  },
  {
   "cell_type": "code",
   "execution_count": 8,
   "metadata": {},
   "outputs": [
    {
     "name": "stdout",
     "output_type": "stream",
     "text": [
      "@InProceedings{maas-EtAl:2011:ACL-HLT2011,\r\n",
      "  author    = {Maas, Andrew L.  and  Daly, Raymond E.  and  Pham, Peter T.  and  Huang, Dan  and  Ng, Andrew Y.  and  Potts, Christopher},\r\n",
      "  title     = {Learning Word Vectors for Sentiment Analysis},\r\n",
      "  booktitle = {Proceedings of the 49th Annual Meeting of the Association for Computational Linguistics: Human Language Technologies},\r\n",
      "  month     = {June},\r\n",
      "  year      = {2011},\r\n",
      "  address   = {Portland, Oregon, USA},\r\n",
      "  publisher = {Association for Computational Linguistics},\r\n",
      "  pages     = {142--150},\r\n",
      "  url       = {http://www.aclweb.org/anthology/P11-1015}\r\n",
      "}\r\n",
      "\r\n",
      "References\r\n",
      "\r\n",
      "Potts, Christopher. 2011. On the negativity of negation. In Nan Li and\r\n",
      "David Lutz, eds., Proceedings of Semantics and Linguistic Theory 20,\r\n",
      "636-659.\r\n",
      "\r\n",
      "Contact\r\n",
      "\r\n",
      "For questions/comments/corrections please contact Andrew Maas\r\n",
      "amaas@cs.stanford.edu\r\n"
     ]
    }
   ],
   "source": [
    "!tail -n 22 aclImdb/README"
   ]
  },
  {
   "cell_type": "markdown",
   "metadata": {},
   "source": [
    "### Read in data"
   ]
  },
  {
   "cell_type": "code",
   "execution_count": 9,
   "metadata": {},
   "outputs": [],
   "source": [
    "dataset = load_files('aclImdb/train/', categories=['pos', 'neg'])"
   ]
  },
  {
   "cell_type": "code",
   "execution_count": 10,
   "metadata": {},
   "outputs": [
    {
     "data": {
      "text/plain": [
       "dict_keys(['DESCR', 'data', 'target_names', 'target', 'filenames'])"
      ]
     },
     "execution_count": 10,
     "metadata": {},
     "output_type": "execute_result"
    }
   ],
   "source": [
    "dataset.keys()"
   ]
  },
  {
   "cell_type": "markdown",
   "metadata": {},
   "source": [
    "### Only minimal data transformation"
   ]
  },
  {
   "cell_type": "markdown",
   "metadata": {},
   "source": [
    "We mostly leave the data as is; for better reults, we should for instance remove markup, but we leave this out for brevity."
   ]
  },
  {
   "cell_type": "code",
   "execution_count": 11,
   "metadata": {},
   "outputs": [],
   "source": [
    "X, y = dataset['data'], dataset['target']\n",
    "X = np.asarray([x.decode() for x in X])  # decode from bytes"
   ]
  },
  {
   "cell_type": "markdown",
   "metadata": {},
   "source": [
    "### A peak at the data"
   ]
  },
  {
   "cell_type": "code",
   "execution_count": 12,
   "metadata": {},
   "outputs": [
    {
     "name": "stdout",
     "output_type": "stream",
     "text": [
      "Target: pos\n",
      "Zero Day leads you to think, even re-think why two boys/young men would do what they did - commit mutual suicide via slaughtering their classmates. It captures what must be beyond a bizarre mode of being for two humans who have decided to withdraw from common civility in order to define their own/mutual world via coupled destruction.<br /><br />It is not a perfect movie but given what money/time the filmmaker and actors had - it is a remarkable product. In terms of explaining the motives and actions of the two young suicide/murderers it is better than 'Elephant' - in terms of being a film that gets under our 'rationalistic' skin it is a far, far better film than almost anything you are likely to see. <br /><br />Flawed but honest with a terrible honesty.\n",
      "\n",
      "Target: neg\n",
      "Words can't describe how bad this movie is. I can't explain it by writing only. You have too see it for yourself to get at grip of how horrible a movie really can be. Not that I recommend you to do that. There are so many clichés, mistakes (and all other negative things you can imagine) here that will just make you cry. To start with the technical first, there are a LOT of mistakes regarding the airplane. I won't list them here, but just mention the coloring of the plane. They didn't even manage to show an airliner in the colors of a fictional airline, but instead used a 747 painted in the original Boeing livery. Very bad. The plot is stupid and has been done many times before, only much, much better. There are so many ridiculous moments here that i lost count of it really early. Also, I was on the bad guys' side all the time in the movie, because the good guys were so stupid. \"Executive Decision\" should without a doubt be you're choice over this one, even the \"Turbulence\"-movies are better. In fact, every other movie in the world is better than this one.\n",
      "\n",
      "Target: pos\n",
      "Everyone plays their part pretty well in this \"little nice movie\". Belushi gets the chance to live part of his life differently, but ends up realizing that what he had was going to be just as good or maybe even better. The movie shows us that we ought to take advantage of the opportunities we have, not the ones we do not or cannot have. If U can get this movie on video for around $10, it´d be an investment!\n",
      "\n"
     ]
    }
   ],
   "source": [
    "for text, target in zip(X[:3], y):\n",
    "    print(\"Target: {}\".format(dataset['target_names'][target]))\n",
    "    print(text)\n",
    "    print()"
   ]
  },
  {
   "cell_type": "markdown",
   "metadata": {},
   "source": [
    "## Transformation steps"
   ]
  },
  {
   "cell_type": "markdown",
   "metadata": {},
   "source": [
    "There are many possible ways to transform our data so that we can pass it to our neural net. What we effectively need is to transform a list of strings to an array of indices, where each row corresponds to one sample, and in each row, each int represents a specific word.\n",
    "\n",
    "Below we show one way to achieve this using `TextFeaturizer` from dstoolbox (more information in this [notebook](https://nbviewer.jupyter.org/github/ottogroup/dstoolbox/blob/master/notebooks/Examples_transformers.ipynb#TextFeaturizer)). This transformer relies heavily on sklearn's `CountVectorizer`. By using sklearn under the hood instead of rolling our own transformation code, we gain the following benefits:\n",
    "\n",
    "* battle-tested, (mostly) bug free code\n",
    "* since it is an sklearn transformer, we can put it into a `Pipeline`\n",
    "* many parameters for us to test in a hyper-parameter search\n",
    "\n",
    "For more on the last point, see the section about randomized search."
   ]
  },
  {
   "cell_type": "markdown",
   "metadata": {},
   "source": [
    "Finally, we have to solve a small problem, namely that sentences have different number of words. This results in a heterogenous array but we need a homogeneous array. With the help of dstoolbox's `Padder2d`, we get this functionality in an sklearn transformer. (Note: We set `pad_value=VOCAB_SIZE` to give the padded value a unique index, since the other indices will range from 0 to VOCAB_SIZE-1)."
   ]
  },
  {
   "cell_type": "markdown",
   "metadata": {},
   "source": [
    "Putting all of this together, these are the transformation steps in the pipeline before the actual neural net:"
   ]
  },
  {
   "cell_type": "code",
   "execution_count": 13,
   "metadata": {},
   "outputs": [],
   "source": [
    "steps = [\n",
    "    ('to_idx', TextFeaturizer(max_features=VOCAB_SIZE)),\n",
    "    ('pad', Padder2d(max_len=MAX_LEN, pad_value=VOCAB_SIZE, dtype=int)),\n",
    "]"
   ]
  },
  {
   "cell_type": "markdown",
   "metadata": {},
   "source": [
    "Here is what the output looks like so far:"
   ]
  },
  {
   "cell_type": "code",
   "execution_count": 14,
   "metadata": {},
   "outputs": [
    {
     "data": {
      "text/plain": [
       "array([[220,  48, 104, 217, 190, 186,  63, 156, 186, 207, 193,  29, 218,\n",
       "        117, 215,  57, 205, 184,  54,  43, 129, 173, 199, 169, 181,  39,\n",
       "        102,  35, 205, 128,  19,  26,  27, 120, 133,  23,  76, 193,  95,\n",
       "        206,  87,  49, 190, 210,  77,  44,  38,  98, 140, 190],\n",
       "       [213,  33,  52,  94,  18, 187, 124, 101,  33,  67, 102,  32, 216,\n",
       "        137, 217,  87, 191, 163, 102,  76, 219, 190,  78,  17,  83, 133,\n",
       "         94,  93, 124, 158,  33,  19, 132, 179, 159, 217, 190,  57, 179,\n",
       "        183,  14, 170, 115,  40, 119,  12,   8, 142, 130, 185],\n",
       "       [ 65, 151, 181, 148, 153, 203,  98, 187, 108, 131, 124,  24,  79,\n",
       "        180,  36, 190, 109, 148, 133,  90, 105,  56,  31,  62, 195, 157,\n",
       "        179, 205,  88,  85, 201,  81, 190,  19, 103,  16,  82, 139, 116,\n",
       "         63,  25, 180, 124, 166, 196, 179, 202, 143, 190, 174]])"
      ]
     },
     "execution_count": 14,
     "metadata": {},
     "output_type": "execute_result"
    }
   ],
   "source": [
    "Pipeline(steps).fit_transform(X[:3])"
   ]
  },
  {
   "cell_type": "markdown",
   "metadata": {},
   "source": [
    "As desired, we have a homogeneous array of indices, exactly what we need."
   ]
  },
  {
   "cell_type": "markdown",
   "metadata": {},
   "source": [
    "## The RNN"
   ]
  },
  {
   "cell_type": "markdown",
   "metadata": {},
   "source": [
    "We define a rather simple RNN with just embeddings, a recurrent layer, and an output layer. To be later able to test all hyper-parameters, we make sure to pass them to the `__init__` of our pytorch module."
   ]
  },
  {
   "cell_type": "code",
   "execution_count": 15,
   "metadata": {},
   "outputs": [
    {
     "name": "stdout",
     "output_type": "stream",
     "text": [
      "from torch import nn\r\n",
      "F = nn.functional\r\n",
      "\r\n",
      "\r\n",
      "class RNNClassifier(nn.Module):\r\n",
      "    def __init__(\r\n",
      "            self,\r\n",
      "            embedding_dim=128,\r\n",
      "            rec_layer_type='lstm',\r\n",
      "            num_units=128,\r\n",
      "            num_layers=2,\r\n",
      "            dropout=0,\r\n",
      "            vocab_size=1000,\r\n",
      "    ):\r\n",
      "        super().__init__()\r\n",
      "        self.embedding_dim = embedding_dim\r\n",
      "        self.rec_layer_type = rec_layer_type.lower()\r\n",
      "        self.num_units = num_units\r\n",
      "        self.num_layers = num_layers\r\n",
      "        self.dropout = dropout\r\n",
      "\r\n",
      "        self.emb = nn.Embedding(\r\n",
      "            vocab_size + 1,\r\n",
      "            embedding_dim=self.embedding_dim,\r\n",
      "            )\r\n",
      "\r\n",
      "        rec_layer = {'lstm': nn.LSTM, 'gru': nn.GRU}[self.rec_layer_type]\r\n",
      "        # We have to make sure that the recurrent layer is batch_first,\r\n",
      "        # since sklearn assumes the batch dimension to be the first\r\n",
      "        self.rec = rec_layer(\r\n",
      "            self.embedding_dim, self.num_units,\r\n",
      "            num_layers=num_layers, batch_first=True,\r\n",
      "            )\r\n",
      "\r\n",
      "        self.output = nn.Linear(self.num_units, 2)\r\n",
      "\r\n",
      "    def forward(self, X):\r\n",
      "        embeddings = self.emb(X)\r\n",
      "        # from the recurrent layer, only take the activities from the\r\n",
      "        # last sequence step\r\n",
      "        if self.rec_layer_type == 'gru':\r\n",
      "            _, rec_out = self.rec(embeddings)\r\n",
      "        else:\r\n",
      "            _, (rec_out, _) = self.rec(embeddings)\r\n",
      "        rec_out = rec_out[-1]  # take output of last RNN layer\r\n",
      "        drop = F.dropout(rec_out, p=self.dropout)\r\n",
      "        # Remember that the final non-linearity should be softmax, so\r\n",
      "        # that our predict_proba method outputs actual probabilities!\r\n",
      "        out = F.softmax(self.output(drop), dim=-1)\r\n",
      "        return out\r\n"
     ]
    }
   ],
   "source": [
    "from myrnn import RNNClassifier\n",
    "\n",
    "!cat myrnn.py"
   ]
  },
  {
   "cell_type": "markdown",
   "metadata": {},
   "source": [
    "We wrap the pytorch module into a skorch `NeuralNetClassifier`, since we are dealing with a binary classification task, and append the step to our transformation steps."
   ]
  },
  {
   "cell_type": "code",
   "execution_count": 16,
   "metadata": {},
   "outputs": [],
   "source": [
    "steps.append(\n",
    "    ('net', NeuralNetClassifier(\n",
    "        RNNClassifier,\n",
    "        device=('cuda' if USE_CUDA else 'cpu'),\n",
    "        module__vocab_size=VOCAB_SIZE,\n",
    "        max_epochs=5,\n",
    "        lr=0.01,\n",
    "        optimizer=torch.optim.RMSprop,\n",
    "    ))\n",
    ")"
   ]
  },
  {
   "cell_type": "markdown",
   "metadata": {},
   "source": [
    "Now we are good to go:"
   ]
  },
  {
   "cell_type": "code",
   "execution_count": 17,
   "metadata": {},
   "outputs": [],
   "source": [
    "pipe = Pipeline(steps)"
   ]
  },
  {
   "cell_type": "code",
   "execution_count": 18,
   "metadata": {},
   "outputs": [
    {
     "name": "stdout",
     "output_type": "stream",
     "text": [
      "  epoch    train_loss    valid_acc    valid_loss     dur\n",
      "-------  ------------  -----------  ------------  ------\n",
      "      1        \u001b[36m0.7711\u001b[0m       \u001b[32m0.5000\u001b[0m        \u001b[35m0.6936\u001b[0m  3.1909\n",
      "      2        \u001b[36m0.7115\u001b[0m       \u001b[32m0.5090\u001b[0m        \u001b[35m0.6924\u001b[0m  3.0214\n",
      "      3        \u001b[36m0.7091\u001b[0m       0.5034        0.6930  3.0298\n",
      "      4        \u001b[36m0.7085\u001b[0m       0.5052        0.6929  3.0032\n",
      "      5        0.7100       \u001b[32m0.5162\u001b[0m        0.6941  3.0154\n",
      "CPU times: user 29.2 s, sys: 1.72 s, total: 31 s\n",
      "Wall time: 35.8 s\n"
     ]
    },
    {
     "data": {
      "text/plain": [
       "Pipeline(memory=None,\n",
       "     steps=[('to_idx', TextFeaturizer(analyzer='word', binary=False, decode_error='strict',\n",
       "        dtype=<class 'numpy.int64'>, encoding='utf-8', input='content',\n",
       "        lowercase=True, max_df=1.0, max_features=1000, min_df=1,\n",
       "        ngram_range=(1, 1), preprocessor=None, stop_words=None,\n",
       "        stri...ayers=2, batch_first=True)\n",
       "    (output): Linear(in_features=128, out_features=2, bias=True)\n",
       "  ),\n",
       "))])"
      ]
     },
     "execution_count": 18,
     "metadata": {},
     "output_type": "execute_result"
    }
   ],
   "source": [
    "%time pipe.fit(X, y)"
   ]
  },
  {
   "cell_type": "markdown",
   "metadata": {},
   "source": [
    "## Randomized search"
   ]
  },
  {
   "cell_type": "markdown",
   "metadata": {},
   "source": [
    "The results above were already okay, but we have many hyper-parameters, so of course we would like to know which ones are best. Therefore, we perform a randomized search. For those not aware, a randomized search is like a grid search, but instead of testing the parameters systematically, they are drawn randomly from a distribution. In practice, compared to grid search, randomized search will find you better parameter values in a shorter amount of time."
   ]
  },
  {
   "cell_type": "markdown",
   "metadata": {},
   "source": [
    "For the randomized search, we turn off the net's verbosity to not clutter the notebook. Also, we set `train_split=None`. This is because we don't need an internal train/valid split, given that sklearn's `RandomizedSearchCV` already takes care of cross-validation."
   ]
  },
  {
   "cell_type": "code",
   "execution_count": 19,
   "metadata": {},
   "outputs": [
    {
     "data": {
      "text/plain": [
       "Pipeline(memory=None,\n",
       "     steps=[('to_idx', TextFeaturizer(analyzer='word', binary=False, decode_error='strict',\n",
       "        dtype=<class 'numpy.int64'>, encoding='utf-8', input='content',\n",
       "        lowercase=True, max_df=1.0, max_features=1000, min_df=1,\n",
       "        ngram_range=(1, 1), preprocessor=None, stop_words=None,\n",
       "        stri...ayers=2, batch_first=True)\n",
       "    (output): Linear(in_features=128, out_features=2, bias=True)\n",
       "  ),\n",
       "))])"
      ]
     },
     "execution_count": 19,
     "metadata": {},
     "output_type": "execute_result"
    }
   ],
   "source": [
    "pipe.set_params(net__verbose=0, net__train_split=None)"
   ]
  },
  {
   "cell_type": "markdown",
   "metadata": {},
   "source": [
    "Now we would like to set the hyper-parameter range to test. With randomized search, we can either specify a list (mostly for discrete variables) or a `scipy.stats` distribution, from which sklearn will sample automatically.\n",
    "\n",
    "As we can see below, we can extend the randomized search to not only cover the parameters we defined for our RNN, but also to cover the way we construct our vocabulary using `TextFeaturizer`. This is why we said earlier that we should use it instead of implementing it ourselves. As shown below, we test:\n",
    "\n",
    "* stop_words: whether to remove english stop words or not\n",
    "* lowercase: whether to turn all words lower-cased or not\n",
    "* ngram_range: whether to use word uni-grams or bi-grams\n",
    "\n",
    "We could also easily switch from words to characters by setting `analyzer='char'`, but then we would probably need longer sequences.\n",
    "\n",
    "Additionally, we test some hyper-parameters on the RNN module itself (e.g. LSTM vs GRU) and on the skorch `NeuralNetClassifier` (e.g. `max_epochs`)."
   ]
  },
  {
   "cell_type": "code",
   "execution_count": 20,
   "metadata": {},
   "outputs": [],
   "source": [
    "params = {\n",
    "    'to_idx__stop_words': ['english', None],\n",
    "    'to_idx__lowercase': [False, True],\n",
    "    'to_idx__ngram_range': [(1, 1), (2, 2)],\n",
    "    'net__module__embedding_dim': stats.randint(32, 256 + 1),\n",
    "    'net__module__rec_layer_type': ['gru', 'lstm'],\n",
    "    'net__module__num_units': stats.randint(32, 256 + 1),\n",
    "    'net__module__num_layers': [1, 2, 3],\n",
    "    'net__module__dropout': stats.uniform(0, 0.9),\n",
    "    'net__lr': [10**(-stats.uniform(1, 5).rvs()) for _ in range(NUM_CV_STEPS)],\n",
    "    'net__max_epochs': [5, 10],\n",
    "}"
   ]
  },
  {
   "cell_type": "markdown",
   "metadata": {},
   "source": [
    "We define our randomized search and start fitting.\n",
    "\n",
    "For demonstration purposes, we perform only a low number of iterations (10) and only fit on the first 5000 samples. Of course, with more time, we should use more steps and include all samples."
   ]
  },
  {
   "cell_type": "code",
   "execution_count": 21,
   "metadata": {},
   "outputs": [],
   "source": [
    "search = RandomizedSearchCV(\n",
    "    pipe, params, n_iter=NUM_CV_STEPS, verbose=2, scoring='accuracy', cv=3)"
   ]
  },
  {
   "cell_type": "code",
   "execution_count": 22,
   "metadata": {},
   "outputs": [
    {
     "name": "stdout",
     "output_type": "stream",
     "text": [
      "Fitting 3 folds for each of 10 candidates, totalling 30 fits\n",
      "[CV] net__module__num_units=197, to_idx__ngram_range=(1, 1), net__module__dropout=0.47600542777761407, net__max_epochs=10, to_idx__lowercase=True, net__module__embedding_dim=120, to_idx__stop_words=None, net__lr=0.0006487299427756309, net__module__rec_layer_type=lstm, net__module__num_layers=2 \n",
      "[CV]  net__module__num_units=197, to_idx__ngram_range=(1, 1), net__module__dropout=0.47600542777761407, net__max_epochs=10, to_idx__lowercase=True, net__module__embedding_dim=120, to_idx__stop_words=None, net__lr=0.0006487299427756309, net__module__rec_layer_type=lstm, net__module__num_layers=2, total=   6.4s\n",
      "[CV] net__module__num_units=197, to_idx__ngram_range=(1, 1), net__module__dropout=0.47600542777761407, net__max_epochs=10, to_idx__lowercase=True, net__module__embedding_dim=120, to_idx__stop_words=None, net__lr=0.0006487299427756309, net__module__rec_layer_type=lstm, net__module__num_layers=2 \n"
     ]
    },
    {
     "name": "stderr",
     "output_type": "stream",
     "text": [
      "[Parallel(n_jobs=1)]: Done   1 out of   1 | elapsed:    7.4s remaining:    0.0s\n"
     ]
    },
    {
     "name": "stdout",
     "output_type": "stream",
     "text": [
      "[CV]  net__module__num_units=197, to_idx__ngram_range=(1, 1), net__module__dropout=0.47600542777761407, net__max_epochs=10, to_idx__lowercase=True, net__module__embedding_dim=120, to_idx__stop_words=None, net__lr=0.0006487299427756309, net__module__rec_layer_type=lstm, net__module__num_layers=2, total=   6.4s\n",
      "[CV] net__module__num_units=197, to_idx__ngram_range=(1, 1), net__module__dropout=0.47600542777761407, net__max_epochs=10, to_idx__lowercase=True, net__module__embedding_dim=120, to_idx__stop_words=None, net__lr=0.0006487299427756309, net__module__rec_layer_type=lstm, net__module__num_layers=2 \n",
      "[CV]  net__module__num_units=197, to_idx__ngram_range=(1, 1), net__module__dropout=0.47600542777761407, net__max_epochs=10, to_idx__lowercase=True, net__module__embedding_dim=120, to_idx__stop_words=None, net__lr=0.0006487299427756309, net__module__rec_layer_type=lstm, net__module__num_layers=2, total=   6.4s\n",
      "[CV] net__module__num_units=111, to_idx__ngram_range=(1, 1), net__module__dropout=0.33141738585649316, net__max_epochs=10, to_idx__lowercase=False, net__module__embedding_dim=229, to_idx__stop_words=None, net__lr=0.0007615983654766594, net__module__rec_layer_type=lstm, net__module__num_layers=3 \n",
      "[CV]  net__module__num_units=111, to_idx__ngram_range=(1, 1), net__module__dropout=0.33141738585649316, net__max_epochs=10, to_idx__lowercase=False, net__module__embedding_dim=229, to_idx__stop_words=None, net__lr=0.0007615983654766594, net__module__rec_layer_type=lstm, net__module__num_layers=3, total=   6.4s\n",
      "[CV] net__module__num_units=111, to_idx__ngram_range=(1, 1), net__module__dropout=0.33141738585649316, net__max_epochs=10, to_idx__lowercase=False, net__module__embedding_dim=229, to_idx__stop_words=None, net__lr=0.0007615983654766594, net__module__rec_layer_type=lstm, net__module__num_layers=3 \n",
      "[CV]  net__module__num_units=111, to_idx__ngram_range=(1, 1), net__module__dropout=0.33141738585649316, net__max_epochs=10, to_idx__lowercase=False, net__module__embedding_dim=229, to_idx__stop_words=None, net__lr=0.0007615983654766594, net__module__rec_layer_type=lstm, net__module__num_layers=3, total=   6.4s\n",
      "[CV] net__module__num_units=111, to_idx__ngram_range=(1, 1), net__module__dropout=0.33141738585649316, net__max_epochs=10, to_idx__lowercase=False, net__module__embedding_dim=229, to_idx__stop_words=None, net__lr=0.0007615983654766594, net__module__rec_layer_type=lstm, net__module__num_layers=3 \n",
      "[CV]  net__module__num_units=111, to_idx__ngram_range=(1, 1), net__module__dropout=0.33141738585649316, net__max_epochs=10, to_idx__lowercase=False, net__module__embedding_dim=229, to_idx__stop_words=None, net__lr=0.0007615983654766594, net__module__rec_layer_type=lstm, net__module__num_layers=3, total=   6.4s\n",
      "[CV] net__module__num_units=199, to_idx__ngram_range=(2, 2), net__module__dropout=0.4153314260276387, net__max_epochs=10, to_idx__lowercase=True, net__module__embedding_dim=179, to_idx__stop_words=None, net__lr=1.5194492443505814e-06, net__module__rec_layer_type=gru, net__module__num_layers=3 \n",
      "[CV]  net__module__num_units=199, to_idx__ngram_range=(2, 2), net__module__dropout=0.4153314260276387, net__max_epochs=10, to_idx__lowercase=True, net__module__embedding_dim=179, to_idx__stop_words=None, net__lr=1.5194492443505814e-06, net__module__rec_layer_type=gru, net__module__num_layers=3, total=   9.2s\n",
      "[CV] net__module__num_units=199, to_idx__ngram_range=(2, 2), net__module__dropout=0.4153314260276387, net__max_epochs=10, to_idx__lowercase=True, net__module__embedding_dim=179, to_idx__stop_words=None, net__lr=1.5194492443505814e-06, net__module__rec_layer_type=gru, net__module__num_layers=3 \n",
      "[CV]  net__module__num_units=199, to_idx__ngram_range=(2, 2), net__module__dropout=0.4153314260276387, net__max_epochs=10, to_idx__lowercase=True, net__module__embedding_dim=179, to_idx__stop_words=None, net__lr=1.5194492443505814e-06, net__module__rec_layer_type=gru, net__module__num_layers=3, total=   9.1s\n",
      "[CV] net__module__num_units=199, to_idx__ngram_range=(2, 2), net__module__dropout=0.4153314260276387, net__max_epochs=10, to_idx__lowercase=True, net__module__embedding_dim=179, to_idx__stop_words=None, net__lr=1.5194492443505814e-06, net__module__rec_layer_type=gru, net__module__num_layers=3 \n",
      "[CV]  net__module__num_units=199, to_idx__ngram_range=(2, 2), net__module__dropout=0.4153314260276387, net__max_epochs=10, to_idx__lowercase=True, net__module__embedding_dim=179, to_idx__stop_words=None, net__lr=1.5194492443505814e-06, net__module__rec_layer_type=gru, net__module__num_layers=3, total=   9.0s\n",
      "[CV] net__module__num_units=235, to_idx__ngram_range=(1, 1), net__module__dropout=0.09531684646901292, net__max_epochs=10, to_idx__lowercase=True, net__module__embedding_dim=183, to_idx__stop_words=english, net__lr=0.00018027374480055714, net__module__rec_layer_type=gru, net__module__num_layers=3 \n",
      "[CV]  net__module__num_units=235, to_idx__ngram_range=(1, 1), net__module__dropout=0.09531684646901292, net__max_epochs=10, to_idx__lowercase=True, net__module__embedding_dim=183, to_idx__stop_words=english, net__lr=0.00018027374480055714, net__module__rec_layer_type=gru, net__module__num_layers=3, total=   7.6s\n",
      "[CV] net__module__num_units=235, to_idx__ngram_range=(1, 1), net__module__dropout=0.09531684646901292, net__max_epochs=10, to_idx__lowercase=True, net__module__embedding_dim=183, to_idx__stop_words=english, net__lr=0.00018027374480055714, net__module__rec_layer_type=gru, net__module__num_layers=3 \n",
      "[CV]  net__module__num_units=235, to_idx__ngram_range=(1, 1), net__module__dropout=0.09531684646901292, net__max_epochs=10, to_idx__lowercase=True, net__module__embedding_dim=183, to_idx__stop_words=english, net__lr=0.00018027374480055714, net__module__rec_layer_type=gru, net__module__num_layers=3, total=   7.6s\n",
      "[CV] net__module__num_units=235, to_idx__ngram_range=(1, 1), net__module__dropout=0.09531684646901292, net__max_epochs=10, to_idx__lowercase=True, net__module__embedding_dim=183, to_idx__stop_words=english, net__lr=0.00018027374480055714, net__module__rec_layer_type=gru, net__module__num_layers=3 \n",
      "[CV]  net__module__num_units=235, to_idx__ngram_range=(1, 1), net__module__dropout=0.09531684646901292, net__max_epochs=10, to_idx__lowercase=True, net__module__embedding_dim=183, to_idx__stop_words=english, net__lr=0.00018027374480055714, net__module__rec_layer_type=gru, net__module__num_layers=3, total=   7.7s\n",
      "[CV] net__module__num_units=49, to_idx__ngram_range=(2, 2), net__module__dropout=0.2917269070138927, net__max_epochs=5, to_idx__lowercase=False, net__module__embedding_dim=165, to_idx__stop_words=english, net__lr=0.00018027374480055714, net__module__rec_layer_type=lstm, net__module__num_layers=3 \n",
      "[CV]  net__module__num_units=49, to_idx__ngram_range=(2, 2), net__module__dropout=0.2917269070138927, net__max_epochs=5, to_idx__lowercase=False, net__module__embedding_dim=165, to_idx__stop_words=english, net__lr=0.00018027374480055714, net__module__rec_layer_type=lstm, net__module__num_layers=3, total=   5.5s\n",
      "[CV] net__module__num_units=49, to_idx__ngram_range=(2, 2), net__module__dropout=0.2917269070138927, net__max_epochs=5, to_idx__lowercase=False, net__module__embedding_dim=165, to_idx__stop_words=english, net__lr=0.00018027374480055714, net__module__rec_layer_type=lstm, net__module__num_layers=3 \n",
      "[CV]  net__module__num_units=49, to_idx__ngram_range=(2, 2), net__module__dropout=0.2917269070138927, net__max_epochs=5, to_idx__lowercase=False, net__module__embedding_dim=165, to_idx__stop_words=english, net__lr=0.00018027374480055714, net__module__rec_layer_type=lstm, net__module__num_layers=3, total=   5.5s\n",
      "[CV] net__module__num_units=49, to_idx__ngram_range=(2, 2), net__module__dropout=0.2917269070138927, net__max_epochs=5, to_idx__lowercase=False, net__module__embedding_dim=165, to_idx__stop_words=english, net__lr=0.00018027374480055714, net__module__rec_layer_type=lstm, net__module__num_layers=3 \n",
      "[CV]  net__module__num_units=49, to_idx__ngram_range=(2, 2), net__module__dropout=0.2917269070138927, net__max_epochs=5, to_idx__lowercase=False, net__module__embedding_dim=165, to_idx__stop_words=english, net__lr=0.00018027374480055714, net__module__rec_layer_type=lstm, net__module__num_layers=3, total=   5.5s\n",
      "[CV] net__module__num_units=67, to_idx__ngram_range=(2, 2), net__module__dropout=0.6278680763345383, net__max_epochs=10, to_idx__lowercase=True, net__module__embedding_dim=201, to_idx__stop_words=english, net__lr=1.5194492443505814e-06, net__module__rec_layer_type=gru, net__module__num_layers=2 \n"
     ]
    },
    {
     "name": "stdout",
     "output_type": "stream",
     "text": [
      "[CV]  net__module__num_units=67, to_idx__ngram_range=(2, 2), net__module__dropout=0.6278680763345383, net__max_epochs=10, to_idx__lowercase=True, net__module__embedding_dim=201, to_idx__stop_words=english, net__lr=1.5194492443505814e-06, net__module__rec_layer_type=gru, net__module__num_layers=2, total=   7.6s\n",
      "[CV] net__module__num_units=67, to_idx__ngram_range=(2, 2), net__module__dropout=0.6278680763345383, net__max_epochs=10, to_idx__lowercase=True, net__module__embedding_dim=201, to_idx__stop_words=english, net__lr=1.5194492443505814e-06, net__module__rec_layer_type=gru, net__module__num_layers=2 \n",
      "[CV]  net__module__num_units=67, to_idx__ngram_range=(2, 2), net__module__dropout=0.6278680763345383, net__max_epochs=10, to_idx__lowercase=True, net__module__embedding_dim=201, to_idx__stop_words=english, net__lr=1.5194492443505814e-06, net__module__rec_layer_type=gru, net__module__num_layers=2, total=   7.6s\n",
      "[CV] net__module__num_units=67, to_idx__ngram_range=(2, 2), net__module__dropout=0.6278680763345383, net__max_epochs=10, to_idx__lowercase=True, net__module__embedding_dim=201, to_idx__stop_words=english, net__lr=1.5194492443505814e-06, net__module__rec_layer_type=gru, net__module__num_layers=2 \n",
      "[CV]  net__module__num_units=67, to_idx__ngram_range=(2, 2), net__module__dropout=0.6278680763345383, net__max_epochs=10, to_idx__lowercase=True, net__module__embedding_dim=201, to_idx__stop_words=english, net__lr=1.5194492443505814e-06, net__module__rec_layer_type=gru, net__module__num_layers=2, total=   7.7s\n",
      "[CV] net__module__num_units=172, to_idx__ngram_range=(1, 1), net__module__dropout=0.6756175270966106, net__max_epochs=10, to_idx__lowercase=False, net__module__embedding_dim=131, to_idx__stop_words=None, net__lr=9.686862153084538e-05, net__module__rec_layer_type=lstm, net__module__num_layers=2 \n",
      "[CV]  net__module__num_units=172, to_idx__ngram_range=(1, 1), net__module__dropout=0.6756175270966106, net__max_epochs=10, to_idx__lowercase=False, net__module__embedding_dim=131, to_idx__stop_words=None, net__lr=9.686862153084538e-05, net__module__rec_layer_type=lstm, net__module__num_layers=2, total=   6.1s\n",
      "[CV] net__module__num_units=172, to_idx__ngram_range=(1, 1), net__module__dropout=0.6756175270966106, net__max_epochs=10, to_idx__lowercase=False, net__module__embedding_dim=131, to_idx__stop_words=None, net__lr=9.686862153084538e-05, net__module__rec_layer_type=lstm, net__module__num_layers=2 \n",
      "[CV]  net__module__num_units=172, to_idx__ngram_range=(1, 1), net__module__dropout=0.6756175270966106, net__max_epochs=10, to_idx__lowercase=False, net__module__embedding_dim=131, to_idx__stop_words=None, net__lr=9.686862153084538e-05, net__module__rec_layer_type=lstm, net__module__num_layers=2, total=   6.1s\n",
      "[CV] net__module__num_units=172, to_idx__ngram_range=(1, 1), net__module__dropout=0.6756175270966106, net__max_epochs=10, to_idx__lowercase=False, net__module__embedding_dim=131, to_idx__stop_words=None, net__lr=9.686862153084538e-05, net__module__rec_layer_type=lstm, net__module__num_layers=2 \n",
      "[CV]  net__module__num_units=172, to_idx__ngram_range=(1, 1), net__module__dropout=0.6756175270966106, net__max_epochs=10, to_idx__lowercase=False, net__module__embedding_dim=131, to_idx__stop_words=None, net__lr=9.686862153084538e-05, net__module__rec_layer_type=lstm, net__module__num_layers=2, total=   6.1s\n",
      "[CV] net__module__num_units=163, to_idx__ngram_range=(1, 1), net__module__dropout=0.09184032967322527, net__max_epochs=5, to_idx__lowercase=False, net__module__embedding_dim=159, to_idx__stop_words=english, net__lr=0.0007615983654766594, net__module__rec_layer_type=gru, net__module__num_layers=1 \n",
      "[CV]  net__module__num_units=163, to_idx__ngram_range=(1, 1), net__module__dropout=0.09184032967322527, net__max_epochs=5, to_idx__lowercase=False, net__module__embedding_dim=159, to_idx__stop_words=english, net__lr=0.0007615983654766594, net__module__rec_layer_type=gru, net__module__num_layers=1, total=   3.9s\n",
      "[CV] net__module__num_units=163, to_idx__ngram_range=(1, 1), net__module__dropout=0.09184032967322527, net__max_epochs=5, to_idx__lowercase=False, net__module__embedding_dim=159, to_idx__stop_words=english, net__lr=0.0007615983654766594, net__module__rec_layer_type=gru, net__module__num_layers=1 \n",
      "[CV]  net__module__num_units=163, to_idx__ngram_range=(1, 1), net__module__dropout=0.09184032967322527, net__max_epochs=5, to_idx__lowercase=False, net__module__embedding_dim=159, to_idx__stop_words=english, net__lr=0.0007615983654766594, net__module__rec_layer_type=gru, net__module__num_layers=1, total=   3.9s\n",
      "[CV] net__module__num_units=163, to_idx__ngram_range=(1, 1), net__module__dropout=0.09184032967322527, net__max_epochs=5, to_idx__lowercase=False, net__module__embedding_dim=159, to_idx__stop_words=english, net__lr=0.0007615983654766594, net__module__rec_layer_type=gru, net__module__num_layers=1 \n",
      "[CV]  net__module__num_units=163, to_idx__ngram_range=(1, 1), net__module__dropout=0.09184032967322527, net__max_epochs=5, to_idx__lowercase=False, net__module__embedding_dim=159, to_idx__stop_words=english, net__lr=0.0007615983654766594, net__module__rec_layer_type=gru, net__module__num_layers=1, total=   3.9s\n",
      "[CV] net__module__num_units=149, to_idx__ngram_range=(2, 2), net__module__dropout=0.5611590910186814, net__max_epochs=10, to_idx__lowercase=False, net__module__embedding_dim=239, to_idx__stop_words=None, net__lr=0.0007615983654766594, net__module__rec_layer_type=lstm, net__module__num_layers=2 \n",
      "[CV]  net__module__num_units=149, to_idx__ngram_range=(2, 2), net__module__dropout=0.5611590910186814, net__max_epochs=10, to_idx__lowercase=False, net__module__embedding_dim=239, to_idx__stop_words=None, net__lr=0.0007615983654766594, net__module__rec_layer_type=lstm, net__module__num_layers=2, total=   7.9s\n",
      "[CV] net__module__num_units=149, to_idx__ngram_range=(2, 2), net__module__dropout=0.5611590910186814, net__max_epochs=10, to_idx__lowercase=False, net__module__embedding_dim=239, to_idx__stop_words=None, net__lr=0.0007615983654766594, net__module__rec_layer_type=lstm, net__module__num_layers=2 \n",
      "[CV]  net__module__num_units=149, to_idx__ngram_range=(2, 2), net__module__dropout=0.5611590910186814, net__max_epochs=10, to_idx__lowercase=False, net__module__embedding_dim=239, to_idx__stop_words=None, net__lr=0.0007615983654766594, net__module__rec_layer_type=lstm, net__module__num_layers=2, total=   7.9s\n",
      "[CV] net__module__num_units=149, to_idx__ngram_range=(2, 2), net__module__dropout=0.5611590910186814, net__max_epochs=10, to_idx__lowercase=False, net__module__embedding_dim=239, to_idx__stop_words=None, net__lr=0.0007615983654766594, net__module__rec_layer_type=lstm, net__module__num_layers=2 \n",
      "[CV]  net__module__num_units=149, to_idx__ngram_range=(2, 2), net__module__dropout=0.5611590910186814, net__max_epochs=10, to_idx__lowercase=False, net__module__embedding_dim=239, to_idx__stop_words=None, net__lr=0.0007615983654766594, net__module__rec_layer_type=lstm, net__module__num_layers=2, total=   8.0s\n",
      "[CV] net__module__num_units=32, to_idx__ngram_range=(1, 1), net__module__dropout=0.3318526535948677, net__max_epochs=10, to_idx__lowercase=False, net__module__embedding_dim=229, to_idx__stop_words=english, net__lr=0.00121001960211435, net__module__rec_layer_type=lstm, net__module__num_layers=3 \n",
      "[CV]  net__module__num_units=32, to_idx__ngram_range=(1, 1), net__module__dropout=0.3318526535948677, net__max_epochs=10, to_idx__lowercase=False, net__module__embedding_dim=229, to_idx__stop_words=english, net__lr=0.00121001960211435, net__module__rec_layer_type=lstm, net__module__num_layers=3, total=   6.3s\n",
      "[CV] net__module__num_units=32, to_idx__ngram_range=(1, 1), net__module__dropout=0.3318526535948677, net__max_epochs=10, to_idx__lowercase=False, net__module__embedding_dim=229, to_idx__stop_words=english, net__lr=0.00121001960211435, net__module__rec_layer_type=lstm, net__module__num_layers=3 \n",
      "[CV]  net__module__num_units=32, to_idx__ngram_range=(1, 1), net__module__dropout=0.3318526535948677, net__max_epochs=10, to_idx__lowercase=False, net__module__embedding_dim=229, to_idx__stop_words=english, net__lr=0.00121001960211435, net__module__rec_layer_type=lstm, net__module__num_layers=3, total=   6.3s\n",
      "[CV] net__module__num_units=32, to_idx__ngram_range=(1, 1), net__module__dropout=0.3318526535948677, net__max_epochs=10, to_idx__lowercase=False, net__module__embedding_dim=229, to_idx__stop_words=english, net__lr=0.00121001960211435, net__module__rec_layer_type=lstm, net__module__num_layers=3 \n"
     ]
    },
    {
     "name": "stdout",
     "output_type": "stream",
     "text": [
      "[CV]  net__module__num_units=32, to_idx__ngram_range=(1, 1), net__module__dropout=0.3318526535948677, net__max_epochs=10, to_idx__lowercase=False, net__module__embedding_dim=229, to_idx__stop_words=english, net__lr=0.00121001960211435, net__module__rec_layer_type=lstm, net__module__num_layers=3, total=   6.3s\n"
     ]
    },
    {
     "name": "stderr",
     "output_type": "stream",
     "text": [
      "[Parallel(n_jobs=1)]: Done  30 out of  30 | elapsed:  3.9min finished\n"
     ]
    },
    {
     "name": "stdout",
     "output_type": "stream",
     "text": [
      "CPU times: user 3min 53s, sys: 9.52 s, total: 4min 2s\n",
      "Wall time: 4min 2s\n"
     ]
    },
    {
     "data": {
      "text/plain": [
       "RandomizedSearchCV(cv=3, error_score='raise',\n",
       "          estimator=Pipeline(memory=None,\n",
       "     steps=[('to_idx', TextFeaturizer(analyzer='word', binary=False, decode_error='strict',\n",
       "        dtype=<class 'numpy.int64'>, encoding='utf-8', input='content',\n",
       "        lowercase=True, max_df=1.0, max_features=1000, min_df=1,\n",
       "        ngram_range=(1, 1), preprocessor=None, stop_words=None,\n",
       "        stri...ayers=2, batch_first=True)\n",
       "    (output): Linear(in_features=128, out_features=2, bias=True)\n",
       "  ),\n",
       "))]),\n",
       "          fit_params=None, iid=True, n_iter=10, n_jobs=1,\n",
       "          param_distributions={'net__module__num_units': <scipy.stats._distn_infrastructure.rv_frozen object at 0x7efc6956cf60>, 'to_idx__ngram_range': [(1, 1), (2, 2)], 'net__max_epochs': [5, 10], 'net__module__rec_layer_type': ['gru', 'lstm'], 'net__module__num_layers': [1, 2, 3], 'to_idx__lowercase': [Fals...._distn_infrastructure.rv_frozen object at 0x7efc6955a128>, 'to_idx__stop_words': ['english', None]},\n",
       "          pre_dispatch='2*n_jobs', random_state=None, refit=True,\n",
       "          return_train_score=True, scoring='accuracy', verbose=2)"
      ]
     },
     "execution_count": 22,
     "metadata": {},
     "output_type": "execute_result"
    }
   ],
   "source": [
    "%time search.fit(X[:5000], y[:5000])"
   ]
  },
  {
   "cell_type": "markdown",
   "metadata": {},
   "source": [
    "Below we see the best accuracy we achieved and what the best hyper-parameters were. Of course the scores here are underwhelming, given that we used so few samples and iterations. Using all the data and trying out more iterations should lead to much better outcomes."
   ]
  },
  {
   "cell_type": "code",
   "execution_count": 23,
   "metadata": {},
   "outputs": [
    {
     "data": {
      "text/plain": [
       "(0.7472,\n",
       " {'net__lr': 0.00018027374480055714,\n",
       "  'net__max_epochs': 10,\n",
       "  'net__module__dropout': 0.09531684646901292,\n",
       "  'net__module__embedding_dim': 183,\n",
       "  'net__module__num_layers': 3,\n",
       "  'net__module__num_units': 235,\n",
       "  'net__module__rec_layer_type': 'gru',\n",
       "  'to_idx__lowercase': True,\n",
       "  'to_idx__ngram_range': (1, 1),\n",
       "  'to_idx__stop_words': 'english'})"
      ]
     },
     "execution_count": 23,
     "metadata": {},
     "output_type": "execute_result"
    }
   ],
   "source": [
    "search.best_score_, search.best_params_"
   ]
  },
  {
   "cell_type": "markdown",
   "metadata": {},
   "source": [
    "Finally, we'll persist this model using Palladium, if it exists. This is to allow us to serve the model using Palladium's built-in web service in another tutorial:"
   ]
  },
  {
   "cell_type": "code",
   "execution_count": 24,
   "metadata": {},
   "outputs": [],
   "source": [
    "try:\n",
    "    from palladium.persistence import File\n",
    "except ImportError:\n",
    "    pass\n",
    "else:\n",
    "    persister = File('rnn-model-{version}')\n",
    "    persister.activate(persister.write(search))"
   ]
  }
 ],
 "metadata": {
  "kernelspec": {
   "display_name": "Python 3",
   "language": "python",
   "name": "python3"
  },
  "language_info": {
   "codemirror_mode": {
    "name": "ipython",
    "version": 3
   },
   "file_extension": ".py",
   "mimetype": "text/x-python",
   "name": "python",
   "nbconvert_exporter": "python",
   "pygments_lexer": "ipython3",
   "version": "3.5.2"
  }
 },
 "nbformat": 4,
 "nbformat_minor": 2
}
